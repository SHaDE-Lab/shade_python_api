{
 "cells": [
  {
   "cell_type": "code",
   "execution_count": 1,
   "id": "39abfb5c",
   "metadata": {},
   "outputs": [],
   "source": [
    "import rasterio as rio #to handle rasters\n",
    "import os\n",
    "import fnmatch\n",
    "import solweig_mrt as sol #the main solweig script which imports all the otehr needed scripts and functions\n",
    "#from functools import partial # uncomment for  parallel computing\n",
    "#import multiprocess as mp # uncomment for  parallel computing\n",
    "import warnings\n",
    "warnings.filterwarnings('ignore')"
   ]
  },
  {
   "cell_type": "code",
   "execution_count": 2,
   "id": "723f70ce",
   "metadata": {
    "scrolled": true
   },
   "outputs": [],
   "source": [
    "svf_walls_paths= '../sample_data/tempe_camp_svfs/' #path with all input rasters (DSM,DEM, CDSM....)\n",
    "out_path = '../sample_results/'\n",
    "\n",
    "#put all the paths in a list\n",
    "files_list = [svf_walls_paths+files for files in os.listdir(svf_walls_paths)]\n"
   ]
  },
  {
   "cell_type": "code",
   "execution_count": 3,
   "id": "3b2b9983",
   "metadata": {},
   "outputs": [
    {
     "data": {
      "text/plain": [
       "['../sample_data/tempe_camp_svfs/svfaveg_al.tif',\n",
       " '../sample_data/tempe_camp_svfs/svfbu_al.tif',\n",
       " '../sample_data/tempe_camp_svfs/svfEaveg_al.tif',\n",
       " '../sample_data/tempe_camp_svfs/svfEveg_al.tif',\n",
       " '../sample_data/tempe_camp_svfs/svfE_al.tif',\n",
       " '../sample_data/tempe_camp_svfs/svfNaveg_al.tif',\n",
       " '../sample_data/tempe_camp_svfs/svfNveg_al.tif',\n",
       " '../sample_data/tempe_camp_svfs/svfN_al.tif',\n",
       " '../sample_data/tempe_camp_svfs/svfSaveg_al.tif',\n",
       " '../sample_data/tempe_camp_svfs/svfSveg_al.tif',\n",
       " '../sample_data/tempe_camp_svfs/svfS_al.tif',\n",
       " '../sample_data/tempe_camp_svfs/svfveg_al.tif',\n",
       " '../sample_data/tempe_camp_svfs/svfWaveg_al.tif',\n",
       " '../sample_data/tempe_camp_svfs/svfWveg_al.tif',\n",
       " '../sample_data/tempe_camp_svfs/svfW_al.tif',\n",
       " '../sample_data/tempe_camp_svfs/svf_al.tif',\n",
       " '../sample_data/tempe_camp_svfs/tempe_campus_cdsm_al.tif',\n",
       " '../sample_data/tempe_camp_svfs/tempe_campus_dem_al.tif',\n",
       " '../sample_data/tempe_camp_svfs/tempe_campus_dirwalls_al.tif',\n",
       " '../sample_data/tempe_camp_svfs/tempe_campus_dsm_al.tif',\n",
       " '../sample_data/tempe_camp_svfs/tempe_campus_walls_al.tif']"
      ]
     },
     "execution_count": 3,
     "metadata": {},
     "output_type": "execute_result"
    }
   ],
   "source": [
    "files_list"
   ]
  },
  {
   "cell_type": "code",
   "execution_count": 4,
   "id": "80d20c04",
   "metadata": {},
   "outputs": [],
   "source": [
    "#open the rasters\n",
    "DSM = rio.open(fnmatch.filter(files_list,'*_dsm_al.tif')[0])\n",
    "Vegdsm =rio.open(fnmatch.filter(files_list,'*_cdsm_al.tif')[0])\n",
    "Dem = rio.open(fnmatch.filter(files_list,'*_dem_al.tif')[0])\n",
    "Svf= rio.open(fnmatch.filter(files_list,'*svfbu_al.tif')[0])\n",
    "SvfN=rio.open(fnmatch.filter(files_list,'*svfN_al.tif')[0])\n",
    "SvfW=rio.open(fnmatch.filter(files_list,'*svfW_al.tif')[0])\n",
    "SvfE=rio.open(fnmatch.filter(files_list,'*svfE_al.tif')[0])\n",
    "SvfS=rio.open(fnmatch.filter(files_list,'*svfS_al.tif')[0])\n",
    "Svfveg=rio.open(fnmatch.filter(files_list,'*svfveg_al.tif')[0])\n",
    "SvfNveg=rio.open(fnmatch.filter(files_list,'*svfNveg_al.tif')[0])\n",
    "SvfEveg=rio.open(fnmatch.filter(files_list,'*svfEveg_al.tif')[0])\n",
    "SvfSveg=rio.open(fnmatch.filter(files_list,'*svfSveg_al.tif')[0])\n",
    "SvfWveg=rio.open(fnmatch.filter(files_list,'*svfWveg_al.tif')[0])\n",
    "Svfaveg=rio.open(fnmatch.filter(files_list,'*svfaveg_al.tif')[0])\n",
    "SvfEaveg=rio.open(fnmatch.filter(files_list,'*svfEaveg_al.tif')[0])\n",
    "SvfSaveg=rio.open(fnmatch.filter(files_list,'*svfSaveg_al.tif')[0])\n",
    "SvfWaveg=rio.open(fnmatch.filter(files_list,'*svfWaveg_al.tif')[0])\n",
    "SvfNaveg=rio.open(fnmatch.filter(files_list,'*svfNaveg_al.tif')[0])\n",
    "Walls=rio.open(fnmatch.filter(files_list,'*_walls_al.tif')[0])\n",
    "Dirwalls=rio.open(fnmatch.filter(files_list,'*_dirwalls_al.tif')[0])"
   ]
  },
  {
   "cell_type": "code",
   "execution_count": 5,
   "id": "41140212",
   "metadata": {},
   "outputs": [],
   "source": [
    "#read the rasters\n",
    "dsm = DSM.read(1)\n",
    "vegdsm = Vegdsm.read(1)\n",
    "dem = Dem.read(1)\n",
    "svf= Svf.read(1)\n",
    "svfN= SvfN.read(1)\n",
    "svfW=SvfW.read(1)\n",
    "svfE=SvfE.read(1)\n",
    "svfS=SvfS.read(1)\n",
    "svfveg=Svfveg.read(1)\n",
    "svfNveg=SvfNveg.read(1)\n",
    "svfEveg=SvfEveg.read(1)\n",
    "svfSveg=SvfSveg.read(1)\n",
    "svfWveg=SvfWveg.read(1)\n",
    "svfaveg=Svfaveg.read(1)\n",
    "svfEaveg=SvfEaveg.read(1)\n",
    "svfSaveg=SvfSaveg.read(1)\n",
    "svfWaveg=SvfWaveg.read(1)\n",
    "svfNaveg=SvfNaveg.read(1)\n",
    "walls=Walls.read(1)\n",
    "dirwalls=Dirwalls.read(1)"
   ]
  },
  {
   "cell_type": "code",
   "execution_count": 6,
   "id": "ae898748",
   "metadata": {},
   "outputs": [],
   "source": [
    "#forcing data and temporal information (change when necessary)\n",
    "year = 2012\n",
    "month = 6\n",
    "day = 27\n",
    "doy=179\n",
    "hour =7\n",
    "minu = 0\n",
    "location ={'latitude': 33.29,'longitude': -112.42}\n",
    "tzone = 'US/Mountain'\n",
    "Ta = 30\n",
    "RH = 43.3\n",
    "radG = 144.4\n",
    "Ws =1.8\n",
    "res =1\n",
    "trans=3"
   ]
  },
  {
   "cell_type": "code",
   "execution_count": 7,
   "id": "2f2a164c",
   "metadata": {},
   "outputs": [
    {
     "name": "stdout",
     "output_type": "stream",
     "text": [
      "rad diffuse done\n",
      "115.31012692528584 108.83574076090343 144.4\n",
      "2023-01-25 01:23:19.451882\n",
      "rad dectime done\n",
      "2023-01-25 01:23:19.451882\n",
      "on the fly shadow done\n",
      "2023-01-25 01:31:01.938990\n",
      "gvf done\n",
      "2023-01-25 01:35:05.701268\n",
      "l rad done\n",
      "2023-01-25 01:35:05.970140\n",
      "k rad done\n",
      "2023-01-25 01:35:12.146313\n",
      "calculating mrt\n",
      "2023-01-25 01:35:23.892210\n",
      "mrt done\n",
      "2023-01-25 01:35:23.957961\n"
     ]
    }
   ],
   "source": [
    "if DSM.bounds==Dem.bounds==Vegdsm.bounds: #simple sanity check here to make sure rasters are aligned\n",
    "        \n",
    "        rez = sol.Solweig_2021a_calc(dsm, vegdsm,dem,res,trans, svf, svfN, svfW, svfE, svfS, svfveg, svfNveg,svfEveg, \n",
    "                                 svfSveg,svfWveg, svfaveg, svfEaveg, svfSaveg, svfWaveg,svfNaveg,walls,dirwalls,\n",
    "                                 location,tzone,year,month,day,doy,hour,minu,Ws,Ta, RH, \n",
    "                                 radG,Twater = 15.0,ani=0,cyl=1,usevegdem=1,onlyglobal=1,elvis=0,landcover=0,lc_grid=None)"
   ]
  },
  {
   "cell_type": "code",
   "execution_count": 8,
   "id": "3f77d041",
   "metadata": {},
   "outputs": [
    {
     "data": {
      "text/plain": [
       "<function DatasetWriter.close>"
      ]
     },
     "execution_count": 8,
     "metadata": {},
     "output_type": "execute_result"
    }
   ],
   "source": [
    " #get box ids for naming .....change accordingly\n",
    "\n",
    "#get prefix or tile ID in DSM\n",
    "        \n",
    "file = fnmatch.filter(files_list,'*_dsm_al.tif')[0]\n",
    "box_id = file[file.find('_svfs/')+6:file.find('_dsm')]\n",
    "\n",
    "\n",
    "#get needed arrays from rez dictionary from previous cell\n",
    "mrt = rez['Tmrt']\n",
    "#kdown = rez['Kdown']\n",
    " #Kup = rez['Kup']\n",
    "#Ldown = rez['Ldown']\n",
    "#Lup = rez['Lup']\n",
    "#shadow = rez['shadow']\n",
    "\n",
    "\n",
    "\n",
    "#create file name using time\n",
    "\n",
    "if hour < 10:\n",
    "    root = '0'+str(hour)+'00'+'/'+box_id+'_'+str(year)+str(month)+str(day)+'_'+str(hour)+'00'\n",
    "            \n",
    "else:\n",
    "    root = str(hour)+'00'+'/'+box_id+'_'+str(year)+str(month)+str(day)+'_'+str(hour)+'00'\n",
    "    \n",
    "    \n",
    "#write array to raster with rasterio        \n",
    "rt = rio.open(out_path+root+'_mrt22.tif', 'w', driver = 'GTiff', height = mrt.shape[0], width = mrt.shape[1], count = 1,\n",
    "                      crs= DSM.crs,transform=DSM.transform,dtype=mrt.dtype)\n",
    "rt.write(mrt,1)\n",
    "\n",
    "rt.close"
   ]
  }
 ],
 "metadata": {
  "kernelspec": {
   "display_name": "Python 3 (ipykernel)",
   "language": "python",
   "name": "python3"
  },
  "language_info": {
   "codemirror_mode": {
    "name": "ipython",
    "version": 3
   },
   "file_extension": ".py",
   "mimetype": "text/x-python",
   "name": "python",
   "nbconvert_exporter": "python",
   "pygments_lexer": "ipython3",
   "version": "3.10.2"
  }
 },
 "nbformat": 4,
 "nbformat_minor": 5
}
