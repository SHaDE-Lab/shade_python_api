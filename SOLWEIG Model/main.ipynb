{
 "cells": [
  {
   "cell_type": "code",
   "execution_count": 1,
   "metadata": {},
   "outputs": [],
   "source": [
    "from solweig_mrt import *"
   ]
  },
  {
   "cell_type": "code",
   "execution_count": 3,
   "metadata": {},
   "outputs": [
    {
     "name": "stdout",
     "output_type": "stream",
     "text": [
      "Response Status: <Response [200]>\n",
      "580.74\n"
     ]
    }
   ],
   "source": [
    "import requests\n",
    "import json\n",
    "import pandas as pd\n",
    "from datetime import datetime, timedelta\n",
    "\n",
    "# Get Tomorrow's Dates \n",
    "presentday = datetime.now()\n",
    "\n",
    "tomorrow = presentday\n",
    "\n",
    "tomorrow_ts = pd.Timestamp(tomorrow).replace(hour=0,minute=0,second=0,microsecond=0)\n",
    "\n",
    "#Geting data from API\n",
    "r = requests.get('https://api.oikolab.com/weather',\n",
    "                 params={'param': ['wind_speed','temperature','relative_humidity','surface_solar_radiation'],\n",
    "                            #Only Include Tomorrow's Data\n",
    "                        'start': tomorrow_ts.date(),\n",
    "                         'end': tomorrow_ts.date(),\n",
    "                            #Tempe, AZ Location\n",
    "                         'lat': 33.427204,\n",
    "                         'lon': -111.939896,\n",
    "                            #Plug in API Key From Discord (will put in .env later)\n",
    "                         'api-key': 'f56043c50c174dea9628ec8f280e8a11'}\n",
    "                 )\n",
    "print(\"Response Status:\", r)\n",
    "\n",
    "#Processing Response into Panda DataFrame\n",
    "weather_data = json.loads(r.json()['data'])\n",
    "df = pd.DataFrame(index=pd.to_datetime(weather_data['index'],\n",
    "                                       unit='s'),\n",
    "                  data=weather_data['data'],\n",
    "                  columns=weather_data['columns'])\n",
    "\n",
    "print(df.loc['2023-01-29 18:00:00']['surface_solar_radiation (W/m^2)'])"
   ]
  },
  {
   "cell_type": "code",
   "execution_count": 3,
   "metadata": {},
   "outputs": [],
   "source": [
    "# API and hardcoded data\n",
    "\n",
    "ws = df.loc['2023-01-27 00:00:00']['wind_speed (m/s)']\n",
    "tmp = df.loc['2023-01-27 00:00:00']['temperature (degC)']\n",
    "rH = df.loc['2023-01-27 00:00:00']['relative_humidity (0-1)']\n",
    "rad = df.loc['2023-01-27 00:00:00']['surface_solar_radiation (W/m^2)']\n",
    "loc = {'latitude': df.loc['2023-01-27 00:00:00']['coordinates (lat,lon)'][0],\n",
    "        'longitude': df.loc['2023-01-27 00:00:00']['coordinates (lat,lon)'][1]}\n",
    "\n",
    "tzone = 'USMountain'\n",
    "year = 2023\n",
    "month = 1\n",
    "day = 2023\n",
    "hour = 0\n",
    "min = 0\n",
    "\n",
    "res = 1\n",
    "trans = 3\n",
    "twater = 15.0\n",
    "ani = 0\n",
    "cyl = 1\n",
    "usevegdem = 1\n",
    "onlyglobal = 1\n",
    "elvis = 0\n",
    "landcover = 0\n",
    "lc_grid = None\n",
    "\n"
   ]
  },
  {
   "cell_type": "code",
   "execution_count": 4,
   "metadata": {},
   "outputs": [],
   "source": [
    "# dsm,vegdsm,dem,res,trans,svf, svfN, svfW, svfE, svfS, svfveg, svfNveg,svfEveg, svfSveg,svfWveg, svfaveg, svfEaveg, svfSaveg, svfWaveg,svfNaveg,walls,dirwalls\n",
    "from PIL import Image\n",
    "import numpy\n",
    "\n",
    "Image.MAX_IMAGE_PIXELS = 4811370788\n",
    "\n",
    "\n",
    "tif_files = ['tempe_campus_dsm_al.tif', 'tempe_campus_cdsm_al.tif','tempe_campus_dem_al.tif','svf_al.tif','svfN_al.tif','svfW_al.tif', 'svfE_al.tif', 'svfS_al.tif','svfveg_al.tif','svfNveg_al.tif','svfEveg_al.tif','svfSveg_al.tif','svfWveg_al.tif', 'svfaveg_al.tif', 'svfEveg_al.tif', 'svfSveg_al.tif', 'svfWveg_al.tif', 'svfNveg_al.tif','svfNveg_al.tif', 'svfNveg_al.tif']\n",
    "svfs = []\n",
    "\n",
    "for svf in tif_files:\n",
    "    im = Image.open(svf)\n",
    "    svfs.append(im)\n",
    "\n"
   ]
  },
  {
   "cell_type": "code",
   "execution_count": 5,
   "metadata": {},
   "outputs": [
    {
     "ename": "ModuleNotFoundError",
     "evalue": "No module named 'pysolar'",
     "output_type": "error",
     "traceback": [
      "\u001b[0;31m---------------------------------------------------------------------------\u001b[0m",
      "\u001b[0;31mModuleNotFoundError\u001b[0m                       Traceback (most recent call last)",
      "Input \u001b[0;32mIn [5]\u001b[0m, in \u001b[0;36m<cell line: 1>\u001b[0;34m()\u001b[0m\n\u001b[0;32m----> 1\u001b[0m obj \u001b[38;5;241m=\u001b[39m \u001b[43mSolweig_2021a_calc\u001b[49m\u001b[43m(\u001b[49m\u001b[43mdsm\u001b[49m\u001b[38;5;241;43m=\u001b[39;49m\u001b[43mtif_files\u001b[49m\u001b[43m[\u001b[49m\u001b[38;5;241;43m0\u001b[39;49m\u001b[43m]\u001b[49m\u001b[43m,\u001b[49m\u001b[43m \u001b[49m\u001b[43mvegdsm\u001b[49m\u001b[38;5;241;43m=\u001b[39;49m\u001b[43mtif_files\u001b[49m\u001b[43m[\u001b[49m\u001b[38;5;241;43m1\u001b[39;49m\u001b[43m]\u001b[49m\u001b[43m,\u001b[49m\u001b[43m \u001b[49m\u001b[43mdem\u001b[49m\u001b[38;5;241;43m=\u001b[39;49m\u001b[43mtif_files\u001b[49m\u001b[43m[\u001b[49m\u001b[38;5;241;43m2\u001b[39;49m\u001b[43m]\u001b[49m\u001b[43m,\u001b[49m\u001b[43m \u001b[49m\u001b[43mres\u001b[49m\u001b[38;5;241;43m=\u001b[39;49m\u001b[43mres\u001b[49m\u001b[43m,\u001b[49m\u001b[43m \u001b[49m\u001b[43mtrans\u001b[49m\u001b[38;5;241;43m=\u001b[39;49m\u001b[43mtrans\u001b[49m\u001b[43m,\u001b[49m\u001b[43m \u001b[49m\u001b[43msvf\u001b[49m\u001b[38;5;241;43m=\u001b[39;49m\u001b[43mtif_files\u001b[49m\u001b[43m[\u001b[49m\u001b[38;5;241;43m3\u001b[39;49m\u001b[43m]\u001b[49m\u001b[43m,\u001b[49m\u001b[43m \u001b[49m\u001b[43msvfN\u001b[49m\u001b[38;5;241;43m=\u001b[39;49m\u001b[43mtif_files\u001b[49m\u001b[43m[\u001b[49m\u001b[38;5;241;43m4\u001b[39;49m\u001b[43m]\u001b[49m\u001b[43m,\u001b[49m\u001b[43m \u001b[49m\u001b[43msvfW\u001b[49m\u001b[38;5;241;43m=\u001b[39;49m\u001b[43mtif_files\u001b[49m\u001b[43m[\u001b[49m\u001b[38;5;241;43m5\u001b[39;49m\u001b[43m]\u001b[49m\u001b[43m,\u001b[49m\u001b[43m \u001b[49m\u001b[43msvfE\u001b[49m\u001b[38;5;241;43m=\u001b[39;49m\u001b[43mtif_files\u001b[49m\u001b[43m[\u001b[49m\u001b[38;5;241;43m6\u001b[39;49m\u001b[43m]\u001b[49m\u001b[43m,\u001b[49m\u001b[43m \u001b[49m\u001b[43msvfS\u001b[49m\u001b[38;5;241;43m=\u001b[39;49m\u001b[43mtif_files\u001b[49m\u001b[43m[\u001b[49m\u001b[38;5;241;43m7\u001b[39;49m\u001b[43m]\u001b[49m\u001b[43m,\u001b[49m\u001b[43m \u001b[49m\u001b[43msvfveg\u001b[49m\u001b[38;5;241;43m=\u001b[39;49m\u001b[43mtif_files\u001b[49m\u001b[43m[\u001b[49m\u001b[38;5;241;43m8\u001b[39;49m\u001b[43m]\u001b[49m\u001b[43m,\u001b[49m\u001b[43m \u001b[49m\u001b[43msvfNveg\u001b[49m\u001b[38;5;241;43m=\u001b[39;49m\u001b[43mtif_files\u001b[49m\u001b[43m[\u001b[49m\u001b[38;5;241;43m9\u001b[39;49m\u001b[43m]\u001b[49m\u001b[43m,\u001b[49m\u001b[43m \u001b[49m\u001b[43msvfEveg\u001b[49m\u001b[38;5;241;43m=\u001b[39;49m\u001b[43mtif_files\u001b[49m\u001b[43m[\u001b[49m\u001b[38;5;241;43m10\u001b[39;49m\u001b[43m]\u001b[49m\u001b[43m,\u001b[49m\u001b[43m \u001b[49m\u001b[43msvfSveg\u001b[49m\u001b[38;5;241;43m=\u001b[39;49m\u001b[43mtif_files\u001b[49m\u001b[43m[\u001b[49m\u001b[38;5;241;43m11\u001b[39;49m\u001b[43m]\u001b[49m\u001b[43m,\u001b[49m\u001b[43m \u001b[49m\u001b[43msvfWveg\u001b[49m\u001b[38;5;241;43m=\u001b[39;49m\u001b[43mtif_files\u001b[49m\u001b[43m[\u001b[49m\u001b[38;5;241;43m12\u001b[39;49m\u001b[43m]\u001b[49m\u001b[43m,\u001b[49m\u001b[43m \u001b[49m\u001b[43msvfaveg\u001b[49m\u001b[38;5;241;43m=\u001b[39;49m\u001b[43mtif_files\u001b[49m\u001b[43m[\u001b[49m\u001b[38;5;241;43m13\u001b[39;49m\u001b[43m]\u001b[49m\u001b[43m,\u001b[49m\u001b[43m \u001b[49m\u001b[43msvfEaveg\u001b[49m\u001b[38;5;241;43m=\u001b[39;49m\u001b[43mtif_files\u001b[49m\u001b[43m[\u001b[49m\u001b[38;5;241;43m14\u001b[39;49m\u001b[43m]\u001b[49m\u001b[43m,\u001b[49m\u001b[43m \u001b[49m\u001b[43msvfSaveg\u001b[49m\u001b[38;5;241;43m=\u001b[39;49m\u001b[43mtif_files\u001b[49m\u001b[43m[\u001b[49m\u001b[38;5;241;43m15\u001b[39;49m\u001b[43m]\u001b[49m\u001b[43m,\u001b[49m\u001b[43m \u001b[49m\u001b[43msvfWaveg\u001b[49m\u001b[38;5;241;43m=\u001b[39;49m\u001b[43mtif_files\u001b[49m\u001b[43m[\u001b[49m\u001b[38;5;241;43m16\u001b[39;49m\u001b[43m]\u001b[49m\u001b[43m,\u001b[49m\u001b[43m \u001b[49m\u001b[43msvfNaveg\u001b[49m\u001b[38;5;241;43m=\u001b[39;49m\u001b[43mtif_files\u001b[49m\u001b[43m[\u001b[49m\u001b[38;5;241;43m17\u001b[39;49m\u001b[43m]\u001b[49m\u001b[43m,\u001b[49m\u001b[43m \u001b[49m\u001b[43mwalls\u001b[49m\u001b[38;5;241;43m=\u001b[39;49m\u001b[43mtif_files\u001b[49m\u001b[43m[\u001b[49m\u001b[38;5;241;43m18\u001b[39;49m\u001b[43m]\u001b[49m\u001b[43m,\u001b[49m\u001b[43m \u001b[49m\u001b[43mdirwalls\u001b[49m\u001b[38;5;241;43m=\u001b[39;49m\u001b[43mtif_files\u001b[49m\u001b[43m[\u001b[49m\u001b[38;5;241;43m19\u001b[39;49m\u001b[43m]\u001b[49m\u001b[43m,\u001b[49m\u001b[43m \u001b[49m\u001b[43mlocation\u001b[49m\u001b[38;5;241;43m=\u001b[39;49m\u001b[43mloc\u001b[49m\u001b[43m,\u001b[49m\u001b[43m \u001b[49m\u001b[43mtzone\u001b[49m\u001b[38;5;241;43m=\u001b[39;49m\u001b[43mtzone\u001b[49m\u001b[43m,\u001b[49m\u001b[43m \u001b[49m\u001b[43myear\u001b[49m\u001b[38;5;241;43m=\u001b[39;49m\u001b[43myear\u001b[49m\u001b[43m,\u001b[49m\u001b[43m \u001b[49m\u001b[43mmonth\u001b[49m\u001b[38;5;241;43m=\u001b[39;49m\u001b[43mmonth\u001b[49m\u001b[43m,\u001b[49m\u001b[43m \u001b[49m\u001b[43mday\u001b[49m\u001b[38;5;241;43m=\u001b[39;49m\u001b[43mday\u001b[49m\u001b[43m,\u001b[49m\u001b[43m \u001b[49m\u001b[43mdoy\u001b[49m\u001b[38;5;241;43m=\u001b[39;49m\u001b[43mday\u001b[49m\u001b[43m,\u001b[49m\u001b[43m \u001b[49m\u001b[43mhour\u001b[49m\u001b[38;5;241;43m=\u001b[39;49m\u001b[43mhour\u001b[49m\u001b[43m,\u001b[49m\u001b[43m \u001b[49m\u001b[43mminu\u001b[49m\u001b[38;5;241;43m=\u001b[39;49m\u001b[38;5;28;43mmin\u001b[39;49m\u001b[43m,\u001b[49m\u001b[43m \u001b[49m\u001b[43mWs\u001b[49m\u001b[38;5;241;43m=\u001b[39;49m\u001b[43mws\u001b[49m\u001b[43m,\u001b[49m\u001b[43m \u001b[49m\u001b[43mTa\u001b[49m\u001b[38;5;241;43m=\u001b[39;49m\u001b[43mtmp\u001b[49m\u001b[43m,\u001b[49m\u001b[43m \u001b[49m\u001b[43mRH\u001b[49m\u001b[38;5;241;43m=\u001b[39;49m\u001b[43mrH\u001b[49m\u001b[43m,\u001b[49m\u001b[43m \u001b[49m\u001b[43mradG\u001b[49m\u001b[38;5;241;43m=\u001b[39;49m\u001b[43mrad\u001b[49m\u001b[43m \u001b[49m\u001b[43m,\u001b[49m\u001b[43mTwater\u001b[49m\u001b[38;5;241;43m=\u001b[39;49m\u001b[43mtwater\u001b[49m\u001b[43m,\u001b[49m\u001b[43m \u001b[49m\u001b[43mani\u001b[49m\u001b[38;5;241;43m=\u001b[39;49m\u001b[43mani\u001b[49m\u001b[43m,\u001b[49m\u001b[43m \u001b[49m\u001b[43mcyl\u001b[49m\u001b[38;5;241;43m=\u001b[39;49m\u001b[43mcyl\u001b[49m\u001b[43m,\u001b[49m\u001b[43m \u001b[49m\u001b[43musevegdem\u001b[49m\u001b[38;5;241;43m=\u001b[39;49m\u001b[43musevegdem\u001b[49m\u001b[43m,\u001b[49m\u001b[43m \u001b[49m\u001b[43monlyglobal\u001b[49m\u001b[38;5;241;43m=\u001b[39;49m\u001b[43monlyglobal\u001b[49m\u001b[43m,\u001b[49m\u001b[43m \u001b[49m\u001b[43melvis\u001b[49m\u001b[38;5;241;43m=\u001b[39;49m\u001b[43melvis\u001b[49m\u001b[43m,\u001b[49m\u001b[43m \u001b[49m\u001b[43mlandcover\u001b[49m\u001b[38;5;241;43m=\u001b[39;49m\u001b[43mlandcover\u001b[49m\u001b[43m,\u001b[49m\u001b[43m \u001b[49m\u001b[43mlc_grid\u001b[49m\u001b[38;5;241;43m=\u001b[39;49m\u001b[43mlc_grid\u001b[49m\u001b[43m)\u001b[49m\n",
      "File \u001b[0;32m~/Documents/Git Repos/Capstone Project/Shade_Model/SOLWEIG-Implementation-main/solweig_mrt.py:32\u001b[0m, in \u001b[0;36mSolweig_2021a_calc\u001b[0;34m(dsm, vegdsm, dem, res, trans, svf, svfN, svfW, svfE, svfS, svfveg, svfNveg, svfEveg, svfSveg, svfWveg, svfaveg, svfEaveg, svfSaveg, svfWaveg, svfNaveg, walls, dirwalls, location, tzone, year, month, day, doy, hour, minu, Ws, Ta, RH, radG, Twater, ani, cyl, usevegdem, onlyglobal, elvis, landcover, lc_grid)\u001b[0m\n\u001b[1;32m     30\u001b[0m \u001b[38;5;28;01mdef\u001b[39;00m \u001b[38;5;21mSolweig_2021a_calc\u001b[39m(dsm,vegdsm,dem,res,trans,svf, svfN, svfW, svfE, svfS, svfveg, svfNveg,svfEveg, svfSveg,svfWveg, svfaveg, svfEaveg, svfSaveg, svfWaveg,svfNaveg,walls,dirwalls,location,tzone,year,month,day,doy,hour,minu,Ws,Ta, RH, radG,Twater,ani,cyl,usevegdem,onlyglobal,elvis,landcover,lc_grid):\n\u001b[0;32m---> 32\u001b[0m     \u001b[38;5;28;01mfrom\u001b[39;00m \u001b[38;5;21;01msunpos\u001b[39;00m \u001b[38;5;28;01mimport\u001b[39;00m altitude\n\u001b[1;32m     33\u001b[0m     \u001b[38;5;28;01mfrom\u001b[39;00m \u001b[38;5;21;01msunpos\u001b[39;00m \u001b[38;5;28;01mimport\u001b[39;00m azimuth\n\u001b[1;32m     34\u001b[0m     \u001b[38;5;28;01mfrom\u001b[39;00m \u001b[38;5;21;01msunpos\u001b[39;00m \u001b[38;5;28;01mimport\u001b[39;00m zenith\n",
      "File \u001b[0;32m~/Documents/Git Repos/Capstone Project/Shade_Model/SOLWEIG-Implementation-main/sunpos.py:17\u001b[0m, in \u001b[0;36m<module>\u001b[0;34m\u001b[0m\n\u001b[1;32m     15\u001b[0m \u001b[38;5;28;01mimport\u001b[39;00m \u001b[38;5;21;01mdatetime\u001b[39;00m\n\u001b[1;32m     16\u001b[0m \u001b[38;5;28;01mimport\u001b[39;00m \u001b[38;5;21;01mpytz\u001b[39;00m\n\u001b[0;32m---> 17\u001b[0m \u001b[38;5;28;01mimport\u001b[39;00m \u001b[38;5;21;01mpysolar\u001b[39;00m\u001b[38;5;21;01m.\u001b[39;00m\u001b[38;5;21;01msolar\u001b[39;00m \u001b[38;5;28;01mas\u001b[39;00m \u001b[38;5;21;01mps\u001b[39;00m\n\u001b[1;32m     18\u001b[0m \u001b[38;5;66;03m#import pvlib as pv\u001b[39;00m\n\u001b[1;32m     21\u001b[0m \u001b[38;5;28;01mdef\u001b[39;00m \u001b[38;5;21mtimestamp\u001b[39m(year,month,day,hour,minute,timezone):\n\u001b[1;32m     22\u001b[0m \n\u001b[1;32m     23\u001b[0m \t\u001b[38;5;66;03m#get appropiate timezone here : https://gist.github.com/heyalexej/8bf688fd67d7199be4a1682b3eec7568\u001b[39;00m\n",
      "\u001b[0;31mModuleNotFoundError\u001b[0m: No module named 'pysolar'"
     ]
    }
   ],
   "source": [
    "obj = Solweig_2021a_calc(dsm=tif_files[0], vegdsm=tif_files[1], dem=tif_files[2], res=res, trans=trans, svf=tif_files[3], svfN=tif_files[4], svfW=tif_files[5], svfE=tif_files[6], svfS=tif_files[7], svfveg=tif_files[8], svfNveg=tif_files[9], svfEveg=tif_files[10], svfSveg=tif_files[11], svfWveg=tif_files[12], svfaveg=tif_files[13], svfEaveg=tif_files[14], svfSaveg=tif_files[15], svfWaveg=tif_files[16], svfNaveg=tif_files[17], walls=tif_files[18], dirwalls=tif_files[19], location=loc, tzone=tzone, year=year, month=month, day=day, doy=day, hour=hour, minu=min, Ws=ws, Ta=tmp, RH=rH, radG=rad ,Twater=twater, ani=ani, cyl=cyl, usevegdem=usevegdem, onlyglobal=onlyglobal, elvis=elvis, landcover=landcover, lc_grid=lc_grid)"
   ]
  },
  {
   "cell_type": "code",
   "execution_count": 6,
   "metadata": {},
   "outputs": [
    {
     "ename": "ModuleNotFoundError",
     "evalue": "No module named 'pysolar'",
     "output_type": "error",
     "traceback": [
      "\u001b[0;31m---------------------------------------------------------------------------\u001b[0m",
      "\u001b[0;31mModuleNotFoundError\u001b[0m                       Traceback (most recent call last)",
      "Input \u001b[0;32mIn [6]\u001b[0m, in \u001b[0;36m<cell line: 1>\u001b[0;34m()\u001b[0m\n\u001b[0;32m----> 1\u001b[0m \u001b[38;5;28;01mimport\u001b[39;00m \u001b[38;5;21;01mpysolar\u001b[39;00m\u001b[38;5;21;01m.\u001b[39;00m\u001b[38;5;21;01msolar\u001b[39;00m \u001b[38;5;28;01mas\u001b[39;00m \u001b[38;5;21;01mps\u001b[39;00m\n",
      "\u001b[0;31mModuleNotFoundError\u001b[0m: No module named 'pysolar'"
     ]
    }
   ],
   "source": [
    "import pysolar.solar as ps"
   ]
  }
 ],
 "metadata": {
  "interpreter": {
   "hash": "6c0e8d1860a00fd68dfc5e90531d3dab3f527dd7725d111fc3e0a9ac8a855ae8"
  },
  "kernelspec": {
   "display_name": "Python 3.6.13 ('cse571')",
   "language": "python",
   "name": "python3"
  },
  "language_info": {
   "codemirror_mode": {
    "name": "ipython",
    "version": 3
   },
   "file_extension": ".py",
   "mimetype": "text/x-python",
   "name": "python",
   "nbconvert_exporter": "python",
   "pygments_lexer": "ipython3",
   "version": "3.9.12"
  },
  "orig_nbformat": 4
 },
 "nbformat": 4,
 "nbformat_minor": 2
}
